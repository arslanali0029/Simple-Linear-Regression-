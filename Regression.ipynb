{
 "cells": [
  {
   "cell_type": "markdown",
   "metadata": {},
   "source": [
    "# Importing The required Libraries"
   ]
  },
  {
   "cell_type": "code",
   "execution_count": 1,
   "metadata": {},
   "outputs": [],
   "source": [
    "# Imporing Pandas Library\n",
    "import pandas as pd\n",
    "import numpy as np\n",
    "import matplotlib.pyplot as plt"
   ]
  },
  {
   "cell_type": "markdown",
   "metadata": {},
   "source": [
    "# Normaliztion"
   ]
  },
  {
   "cell_type": "code",
   "execution_count": 2,
   "metadata": {},
   "outputs": [],
   "source": [
    "#Simple Normaliztion \n",
    "def Normaliztion(x):\n",
    "    X_normal = x\n",
    "    M = np.zeros((1,2))\n",
    "    S = np.zeros((1,2))\n",
    "    #convert the x features into numpy matrix\n",
    "    newx = np.matrix(x)\n",
    "    # find the mean and the standard diviation of the features\n",
    "    M = newx.mean(0)\n",
    "    S = newx.std(0)\n",
    "    X_normal =  np.divide(np.subtract(x , M), S)\n",
    "    return X_normal , M , S\n",
    "\n",
    "\n"
   ]
  },
  {
   "cell_type": "markdown",
   "metadata": {},
   "source": [
    "# Cost Function"
   ]
  },
  {
   "cell_type": "code",
   "execution_count": 3,
   "metadata": {},
   "outputs": [],
   "source": [
    "#Computer the Cost Function\n",
    "def ComputeCostFunction(x, y, theta):\n",
    "    m = len(y)\n",
    "    cost = 0\n",
    "    error = 0\n",
    "    i = 0\n",
    "    while(i < m):\n",
    "        newt = np.transpose(theta)\n",
    "        newx = np.transpose(x[i])\n",
    "        multi = np.matmul(newt,newx)\n",
    "        pwr = np.power(multi-y.iloc[[i],:],2)\n",
    "        error = error + pwr\n",
    "        i = i + 1\n",
    "    cost = error / (2*m)\n",
    "    return cost"
   ]
  },
  {
   "cell_type": "markdown",
   "metadata": {},
   "source": [
    "# Gradient Descent Function"
   ]
  },
  {
   "cell_type": "code",
   "execution_count": 4,
   "metadata": {},
   "outputs": [],
   "source": [
    "#Gradient Descent Function\n",
    "def Gradient_Descent(X,Y,theta,alpha,iterations):\n",
    "    m = len(Y)\n",
    "    cost_history = np.zeros((iterations,1))\n",
    "    index = 0\n",
    "    while(index<iterations):\n",
    "        hypothesis = np.matmul(X,theta)\n",
    "        error = np.subtract(hypothesis, Y)\n",
    "        new_x = np.transpose(X)\n",
    "        delta = np.matmul(new_x,error)\n",
    "        theta = np.subtract(theta , np.multiply((alpha/m),delta))\n",
    "        cost_history[index] = ComputeCostFunction(X,Y,theta)\n",
    "        index = index+1\n",
    "    return theta , cost_history\n"
   ]
  },
  {
   "cell_type": "markdown",
   "metadata": {},
   "source": [
    "# Main"
   ]
  },
  {
   "cell_type": "code",
   "execution_count": 5,
   "metadata": {},
   "outputs": [
    {
     "data": {
      "image/png": "[encoded data removed]",
      "text/plain": [
       "<Figure size 432x288 with 1 Axes>"
      ]
     },
     "metadata": {
      "needs_background": "light"
     },
     "output_type": "display_data"
    },
    {
     "data": {
      "image/png": "[encoded data removed]",
      "text/plain": [
       "<Figure size 432x288 with 1 Axes>"
      ]
     },
     "metadata": {
      "needs_background": "light"
     },
     "output_type": "display_data"
    }
   ],
   "source": [
    "def main():\n",
    "    # importing Data from drive\n",
    "    dataset =  pd.read_csv('MLD.csv',delimiter=',')\n",
    "    \n",
    "    # seperate dependent and independent features\n",
    "    X = dataset.iloc[:,0:-1]\n",
    "    Y = dataset.iloc[:,[2]]\n",
    "    Y_len = len(Y) \n",
    "    plt.plot(X,Y,'+')\n",
    "    plt.show()\n",
    "    # initialize the mean and std matrix\n",
    "    MEAN = np.zeros((1,2))\n",
    "    STD  = np.zeros((1,2))\n",
    "    #call the method Normaliztion and gets the new dependent features\n",
    "    X, MEAN, STD = Normaliztion(X)\n",
    "    # add one's column in the features\n",
    "    X = np.hstack((np.ones((Y_len,1)),X))\n",
    "    #set alpha's value\n",
    "    alpha = 0.01\n",
    "    #set number of iterations \n",
    "    iterations = 400\n",
    "    #initialize theta and cost function\n",
    "    theta = np.zeros((3,1))\n",
    "    cost_function = np.zeros((iterations,1))\n",
    "    # run Gradient Descent \n",
    "    theta , cost_function = Gradient_Descent(X,Y,theta,alpha,iterations)\n",
    "    # Plot Cost Function \n",
    "    plt.plot(cost_function)\n",
    "    plt.ylabel('Number of iterations')\n",
    "    plt.xlabel('Cost J')\n",
    "    plt.show()\n",
    "    # Predit the house price of 1650 sq feet with 3 bed rooms\n",
    "    x = np.array([1, 1650, 3])\n",
    "    price = np.matmul(np.transpose(theta),x)\n",
    "#main Call\n",
    "main()\n"
   ]
  },
  {
   "cell_type": "code",
   "execution_count": null,
   "metadata": {},
   "outputs": [],
   "source": []
  },
  {
   "cell_type": "code",
   "execution_count": null,
   "metadata": {},
   "outputs": [],
   "source": []
  }
 ],
 "metadata": {
  "kernelspec": {
   "display_name": "Python 3",
   "language": "python",
   "name": "python3"
  },
  "language_info": {
   "codemirror_mode": {
    "name": "ipython",
    "version": 3
   },
   "file_extension": ".py",
   "mimetype": "text/x-python",
   "name": "python",
   "nbconvert_exporter": "python",
   "pygments_lexer": "ipython3",
   "version": "3.7.0"
  }
 },
 "nbformat": 4,
 "nbformat_minor": 2
}
